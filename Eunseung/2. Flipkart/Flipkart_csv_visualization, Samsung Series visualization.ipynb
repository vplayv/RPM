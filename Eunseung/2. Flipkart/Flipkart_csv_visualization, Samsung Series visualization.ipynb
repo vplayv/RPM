{
 "cells": [
  {
   "cell_type": "code",
   "execution_count": 26,
   "metadata": {},
   "outputs": [],
   "source": [
    "import pandas as pd\n",
    "import numpy as np  \n",
    "import matplotlib.pyplot as plt\n",
    "import os\n",
    "import glob\n",
    "%matplotlib inline"
   ]
  },
  {
   "cell_type": "code",
   "execution_count": 27,
   "metadata": {},
   "outputs": [],
   "source": [
    "# 제품명이 '(' 로 시작을 이용하여 제품명을 리턴\n",
    "def get_product_name_from_filename(filename):\n",
    "    return filename[:filename.find('(')].strip()"
   ]
  },
  {
   "cell_type": "code",
   "execution_count": 28,
   "metadata": {},
   "outputs": [],
   "source": [
    "path = r\"C:\\Users\\USER\\Desktop\\Flipkart_real\"\n",
    "allfiles = glob.glob(path + \"/*.csv\")\n",
    "list_ = []\n",
    "for file_ in allfiles:\n",
    "    df = pd.read_csv(file_, header=0)    #index_col = None 삭제함\n",
    "#     pd.concat(segon['Vendor'], df)\n",
    "    list_.append(df)\n",
    "df = pd.concat(list_)"
   ]
  },
  {
   "cell_type": "code",
   "execution_count": 29,
   "metadata": {},
   "outputs": [
    {
     "data": {
      "text/html": [
       "<div>\n",
       "<style scoped>\n",
       "    .dataframe tbody tr th:only-of-type {\n",
       "        vertical-align: middle;\n",
       "    }\n",
       "\n",
       "    .dataframe tbody tr th {\n",
       "        vertical-align: top;\n",
       "    }\n",
       "\n",
       "    .dataframe thead th {\n",
       "        text-align: right;\n",
       "    }\n",
       "</style>\n",
       "<table border=\"1\" class=\"dataframe\">\n",
       "  <thead>\n",
       "    <tr style=\"text-align: right;\">\n",
       "      <th></th>\n",
       "      <th>Unnamed: 0</th>\n",
       "      <th>Unnamed: 0.1</th>\n",
       "      <th>Unnamed: 0.1.1</th>\n",
       "      <th>Category_of_overall</th>\n",
       "      <th>Ratings_of_overall</th>\n",
       "      <th>Title_of_overall</th>\n",
       "      <th>Content_of_overall</th>\n",
       "      <th>Customer_of_overall</th>\n",
       "      <th>Region_of_overall</th>\n",
       "      <th>Days_of_overall</th>\n",
       "      <th>Good_of_overall</th>\n",
       "      <th>Bad_of_overall</th>\n",
       "      <th>Vendor</th>\n",
       "      <th>Name</th>\n",
       "    </tr>\n",
       "  </thead>\n",
       "  <tbody>\n",
       "    <tr>\n",
       "      <th>0</th>\n",
       "      <td>0</td>\n",
       "      <td>0</td>\n",
       "      <td>0</td>\n",
       "      <td>MOST_RECENT</td>\n",
       "      <td>5.0</td>\n",
       "      <td>Excellent</td>\n",
       "      <td>this product is very Nyccc all function is sup...</td>\n",
       "      <td>Sintu  Sharma</td>\n",
       "      <td>== NOT AVAILABLE ==</td>\n",
       "      <td>20190814</td>\n",
       "      <td>1.0</td>\n",
       "      <td>1.0</td>\n",
       "      <td>Alcatel</td>\n",
       "      <td>Alcatel 3V</td>\n",
       "    </tr>\n",
       "    <tr>\n",
       "      <th>1</th>\n",
       "      <td>1</td>\n",
       "      <td>1</td>\n",
       "      <td>1</td>\n",
       "      <td>MOST_RECENT</td>\n",
       "      <td>5.0</td>\n",
       "      <td>Highly recommended</td>\n",
       "      <td>Good</td>\n",
       "      <td>Venkatesan</td>\n",
       "      <td>== NOT AVAILABLE ==</td>\n",
       "      <td>20190814</td>\n",
       "      <td>0.0</td>\n",
       "      <td>0.0</td>\n",
       "      <td>Alcatel</td>\n",
       "      <td>Alcatel 3V</td>\n",
       "    </tr>\n",
       "    <tr>\n",
       "      <th>2</th>\n",
       "      <td>2</td>\n",
       "      <td>2</td>\n",
       "      <td>2</td>\n",
       "      <td>MOST_RECENT</td>\n",
       "      <td>3.0</td>\n",
       "      <td>Good</td>\n",
       "      <td>Good</td>\n",
       "      <td>RAJA  JOSHI</td>\n",
       "      <td>Kalahandi District</td>\n",
       "      <td>20190811</td>\n",
       "      <td>0.0</td>\n",
       "      <td>0.0</td>\n",
       "      <td>Alcatel</td>\n",
       "      <td>Alcatel 3V</td>\n",
       "    </tr>\n",
       "    <tr>\n",
       "      <th>3</th>\n",
       "      <td>3</td>\n",
       "      <td>3</td>\n",
       "      <td>3</td>\n",
       "      <td>MOST_RECENT</td>\n",
       "      <td>5.0</td>\n",
       "      <td>Classy product</td>\n",
       "      <td>Excellent</td>\n",
       "      <td>Debajyoti Ghosh</td>\n",
       "      <td>== NOT AVAILABLE ==</td>\n",
       "      <td>20190809</td>\n",
       "      <td>0.0</td>\n",
       "      <td>0.0</td>\n",
       "      <td>Alcatel</td>\n",
       "      <td>Alcatel 3V</td>\n",
       "    </tr>\n",
       "    <tr>\n",
       "      <th>4</th>\n",
       "      <td>4</td>\n",
       "      <td>4</td>\n",
       "      <td>4</td>\n",
       "      <td>MOST_RECENT</td>\n",
       "      <td>5.0</td>\n",
       "      <td>Just wow!</td>\n",
       "      <td>Good product... Fast delivery.. and product is...</td>\n",
       "      <td>Alka  Sharma</td>\n",
       "      <td>Moradabad</td>\n",
       "      <td>20190808</td>\n",
       "      <td>0.0</td>\n",
       "      <td>0.0</td>\n",
       "      <td>Alcatel</td>\n",
       "      <td>Alcatel 3V</td>\n",
       "    </tr>\n",
       "  </tbody>\n",
       "</table>\n",
       "</div>"
      ],
      "text/plain": [
       "  Unnamed: 0 Unnamed: 0.1 Unnamed: 0.1.1 Category_of_overall  \\\n",
       "0          0            0              0         MOST_RECENT   \n",
       "1          1            1              1         MOST_RECENT   \n",
       "2          2            2              2         MOST_RECENT   \n",
       "3          3            3              3         MOST_RECENT   \n",
       "4          4            4              4         MOST_RECENT   \n",
       "\n",
       "   Ratings_of_overall    Title_of_overall  \\\n",
       "0                 5.0           Excellent   \n",
       "1                 5.0  Highly recommended   \n",
       "2                 3.0                Good   \n",
       "3                 5.0      Classy product   \n",
       "4                 5.0           Just wow!   \n",
       "\n",
       "                                  Content_of_overall Customer_of_overall  \\\n",
       "0  this product is very Nyccc all function is sup...       Sintu  Sharma   \n",
       "1                                               Good          Venkatesan   \n",
       "2                                               Good         RAJA  JOSHI   \n",
       "3                                          Excellent     Debajyoti Ghosh   \n",
       "4  Good product... Fast delivery.. and product is...        Alka  Sharma   \n",
       "\n",
       "     Region_of_overall Days_of_overall  Good_of_overall  Bad_of_overall  \\\n",
       "0  == NOT AVAILABLE ==        20190814              1.0             1.0   \n",
       "1  == NOT AVAILABLE ==        20190814              0.0             0.0   \n",
       "2   Kalahandi District        20190811              0.0             0.0   \n",
       "3  == NOT AVAILABLE ==        20190809              0.0             0.0   \n",
       "4            Moradabad        20190808              0.0             0.0   \n",
       "\n",
       "    Vendor        Name  \n",
       "0  Alcatel  Alcatel 3V  \n",
       "1  Alcatel  Alcatel 3V  \n",
       "2  Alcatel  Alcatel 3V  \n",
       "3  Alcatel  Alcatel 3V  \n",
       "4  Alcatel  Alcatel 3V  "
      ]
     },
     "execution_count": 29,
     "metadata": {},
     "output_type": "execute_result"
    }
   ],
   "source": [
    "df.head()"
   ]
  },
  {
   "cell_type": "code",
   "execution_count": 30,
   "metadata": {},
   "outputs": [],
   "source": [
    "import datetime as dt\n",
    "import calendar"
   ]
  },
  {
   "cell_type": "code",
   "execution_count": 37,
   "metadata": {},
   "outputs": [],
   "source": [
    "#데이터 타입 문자열로 변경\n",
    "df['Days_of_overall'] = df['Days_of_overall'].astype(str)"
   ]
  },
  {
   "cell_type": "code",
   "execution_count": 40,
   "metadata": {},
   "outputs": [
    {
     "data": {
      "text/plain": [
       "0   2019-08-14\n",
       "1   2019-08-14\n",
       "2   2019-08-11\n",
       "3   2019-08-09\n",
       "4   2019-08-08\n",
       "Name: Date, dtype: datetime64[ns]"
      ]
     },
     "execution_count": 40,
     "metadata": {},
     "output_type": "execute_result"
    }
   ],
   "source": [
    "df['Date'] = pd.to_datetime(df.loc[:,'Days_of_overall'])\n",
    "df['Date'].head()"
   ]
  },
  {
   "cell_type": "code",
   "execution_count": 42,
   "metadata": {},
   "outputs": [],
   "source": [
    "df['Week'] = df['Date'].dt.week"
   ]
  },
  {
   "cell_type": "code",
   "execution_count": 43,
   "metadata": {},
   "outputs": [
    {
     "data": {
      "text/html": [
       "<div>\n",
       "<style scoped>\n",
       "    .dataframe tbody tr th:only-of-type {\n",
       "        vertical-align: middle;\n",
       "    }\n",
       "\n",
       "    .dataframe tbody tr th {\n",
       "        vertical-align: top;\n",
       "    }\n",
       "\n",
       "    .dataframe thead th {\n",
       "        text-align: right;\n",
       "    }\n",
       "</style>\n",
       "<table border=\"1\" class=\"dataframe\">\n",
       "  <thead>\n",
       "    <tr style=\"text-align: right;\">\n",
       "      <th></th>\n",
       "      <th>Unnamed: 0</th>\n",
       "      <th>Unnamed: 0.1</th>\n",
       "      <th>Unnamed: 0.1.1</th>\n",
       "      <th>Category_of_overall</th>\n",
       "      <th>Ratings_of_overall</th>\n",
       "      <th>Title_of_overall</th>\n",
       "      <th>Content_of_overall</th>\n",
       "      <th>Customer_of_overall</th>\n",
       "      <th>Region_of_overall</th>\n",
       "      <th>Days_of_overall</th>\n",
       "      <th>Good_of_overall</th>\n",
       "      <th>Bad_of_overall</th>\n",
       "      <th>Vendor</th>\n",
       "      <th>Name</th>\n",
       "      <th>Date</th>\n",
       "      <th>Week</th>\n",
       "    </tr>\n",
       "  </thead>\n",
       "  <tbody>\n",
       "    <tr>\n",
       "      <th>0</th>\n",
       "      <td>0</td>\n",
       "      <td>0</td>\n",
       "      <td>0</td>\n",
       "      <td>MOST_RECENT</td>\n",
       "      <td>5.0</td>\n",
       "      <td>Excellent</td>\n",
       "      <td>this product is very Nyccc all function is sup...</td>\n",
       "      <td>Sintu  Sharma</td>\n",
       "      <td>== NOT AVAILABLE ==</td>\n",
       "      <td>20190814</td>\n",
       "      <td>1.0</td>\n",
       "      <td>1.0</td>\n",
       "      <td>Alcatel</td>\n",
       "      <td>Alcatel 3V</td>\n",
       "      <td>2019-08-14</td>\n",
       "      <td>33</td>\n",
       "    </tr>\n",
       "    <tr>\n",
       "      <th>1</th>\n",
       "      <td>1</td>\n",
       "      <td>1</td>\n",
       "      <td>1</td>\n",
       "      <td>MOST_RECENT</td>\n",
       "      <td>5.0</td>\n",
       "      <td>Highly recommended</td>\n",
       "      <td>Good</td>\n",
       "      <td>Venkatesan</td>\n",
       "      <td>== NOT AVAILABLE ==</td>\n",
       "      <td>20190814</td>\n",
       "      <td>0.0</td>\n",
       "      <td>0.0</td>\n",
       "      <td>Alcatel</td>\n",
       "      <td>Alcatel 3V</td>\n",
       "      <td>2019-08-14</td>\n",
       "      <td>33</td>\n",
       "    </tr>\n",
       "    <tr>\n",
       "      <th>2</th>\n",
       "      <td>2</td>\n",
       "      <td>2</td>\n",
       "      <td>2</td>\n",
       "      <td>MOST_RECENT</td>\n",
       "      <td>3.0</td>\n",
       "      <td>Good</td>\n",
       "      <td>Good</td>\n",
       "      <td>RAJA  JOSHI</td>\n",
       "      <td>Kalahandi District</td>\n",
       "      <td>20190811</td>\n",
       "      <td>0.0</td>\n",
       "      <td>0.0</td>\n",
       "      <td>Alcatel</td>\n",
       "      <td>Alcatel 3V</td>\n",
       "      <td>2019-08-11</td>\n",
       "      <td>32</td>\n",
       "    </tr>\n",
       "    <tr>\n",
       "      <th>3</th>\n",
       "      <td>3</td>\n",
       "      <td>3</td>\n",
       "      <td>3</td>\n",
       "      <td>MOST_RECENT</td>\n",
       "      <td>5.0</td>\n",
       "      <td>Classy product</td>\n",
       "      <td>Excellent</td>\n",
       "      <td>Debajyoti Ghosh</td>\n",
       "      <td>== NOT AVAILABLE ==</td>\n",
       "      <td>20190809</td>\n",
       "      <td>0.0</td>\n",
       "      <td>0.0</td>\n",
       "      <td>Alcatel</td>\n",
       "      <td>Alcatel 3V</td>\n",
       "      <td>2019-08-09</td>\n",
       "      <td>32</td>\n",
       "    </tr>\n",
       "    <tr>\n",
       "      <th>4</th>\n",
       "      <td>4</td>\n",
       "      <td>4</td>\n",
       "      <td>4</td>\n",
       "      <td>MOST_RECENT</td>\n",
       "      <td>5.0</td>\n",
       "      <td>Just wow!</td>\n",
       "      <td>Good product... Fast delivery.. and product is...</td>\n",
       "      <td>Alka  Sharma</td>\n",
       "      <td>Moradabad</td>\n",
       "      <td>20190808</td>\n",
       "      <td>0.0</td>\n",
       "      <td>0.0</td>\n",
       "      <td>Alcatel</td>\n",
       "      <td>Alcatel 3V</td>\n",
       "      <td>2019-08-08</td>\n",
       "      <td>32</td>\n",
       "    </tr>\n",
       "  </tbody>\n",
       "</table>\n",
       "</div>"
      ],
      "text/plain": [
       "  Unnamed: 0 Unnamed: 0.1 Unnamed: 0.1.1 Category_of_overall  \\\n",
       "0          0            0              0         MOST_RECENT   \n",
       "1          1            1              1         MOST_RECENT   \n",
       "2          2            2              2         MOST_RECENT   \n",
       "3          3            3              3         MOST_RECENT   \n",
       "4          4            4              4         MOST_RECENT   \n",
       "\n",
       "   Ratings_of_overall    Title_of_overall  \\\n",
       "0                 5.0           Excellent   \n",
       "1                 5.0  Highly recommended   \n",
       "2                 3.0                Good   \n",
       "3                 5.0      Classy product   \n",
       "4                 5.0           Just wow!   \n",
       "\n",
       "                                  Content_of_overall Customer_of_overall  \\\n",
       "0  this product is very Nyccc all function is sup...       Sintu  Sharma   \n",
       "1                                               Good          Venkatesan   \n",
       "2                                               Good         RAJA  JOSHI   \n",
       "3                                          Excellent     Debajyoti Ghosh   \n",
       "4  Good product... Fast delivery.. and product is...        Alka  Sharma   \n",
       "\n",
       "     Region_of_overall Days_of_overall  Good_of_overall  Bad_of_overall  \\\n",
       "0  == NOT AVAILABLE ==        20190814              1.0             1.0   \n",
       "1  == NOT AVAILABLE ==        20190814              0.0             0.0   \n",
       "2   Kalahandi District        20190811              0.0             0.0   \n",
       "3  == NOT AVAILABLE ==        20190809              0.0             0.0   \n",
       "4            Moradabad        20190808              0.0             0.0   \n",
       "\n",
       "    Vendor        Name       Date  Week  \n",
       "0  Alcatel  Alcatel 3V 2019-08-14    33  \n",
       "1  Alcatel  Alcatel 3V 2019-08-14    33  \n",
       "2  Alcatel  Alcatel 3V 2019-08-11    32  \n",
       "3  Alcatel  Alcatel 3V 2019-08-09    32  \n",
       "4  Alcatel  Alcatel 3V 2019-08-08    32  "
      ]
     },
     "execution_count": 43,
     "metadata": {},
     "output_type": "execute_result"
    }
   ],
   "source": [
    "df.head()"
   ]
  },
  {
   "cell_type": "code",
   "execution_count": 45,
   "metadata": {},
   "outputs": [
    {
     "data": {
      "text/html": [
       "<div>\n",
       "<style scoped>\n",
       "    .dataframe tbody tr th:only-of-type {\n",
       "        vertical-align: middle;\n",
       "    }\n",
       "\n",
       "    .dataframe tbody tr th {\n",
       "        vertical-align: top;\n",
       "    }\n",
       "\n",
       "    .dataframe thead th {\n",
       "        text-align: right;\n",
       "    }\n",
       "</style>\n",
       "<table border=\"1\" class=\"dataframe\">\n",
       "  <thead>\n",
       "    <tr style=\"text-align: right;\">\n",
       "      <th></th>\n",
       "      <th>Unnamed: 0</th>\n",
       "      <th>Unnamed: 0.1</th>\n",
       "      <th>Unnamed: 0.1.1</th>\n",
       "      <th>Category_of_overall</th>\n",
       "      <th>Ratings_of_overall</th>\n",
       "      <th>Title_of_overall</th>\n",
       "      <th>Content_of_overall</th>\n",
       "      <th>Customer_of_overall</th>\n",
       "      <th>Region_of_overall</th>\n",
       "      <th>Days_of_overall</th>\n",
       "      <th>Good_of_overall</th>\n",
       "      <th>Bad_of_overall</th>\n",
       "      <th>Vendor</th>\n",
       "      <th>Name</th>\n",
       "      <th>Date</th>\n",
       "      <th>Week</th>\n",
       "      <th>Point</th>\n",
       "    </tr>\n",
       "  </thead>\n",
       "  <tbody>\n",
       "    <tr>\n",
       "      <th>0</th>\n",
       "      <td>0</td>\n",
       "      <td>0</td>\n",
       "      <td>0</td>\n",
       "      <td>MOST_RECENT</td>\n",
       "      <td>5.0</td>\n",
       "      <td>Excellent</td>\n",
       "      <td>this product is very Nyccc all function is sup...</td>\n",
       "      <td>Sintu  Sharma</td>\n",
       "      <td>== NOT AVAILABLE ==</td>\n",
       "      <td>20190814</td>\n",
       "      <td>1.0</td>\n",
       "      <td>1.0</td>\n",
       "      <td>Alcatel</td>\n",
       "      <td>Alcatel 3V</td>\n",
       "      <td>2019-08-14</td>\n",
       "      <td>33</td>\n",
       "      <td>5.0</td>\n",
       "    </tr>\n",
       "    <tr>\n",
       "      <th>1</th>\n",
       "      <td>1</td>\n",
       "      <td>1</td>\n",
       "      <td>1</td>\n",
       "      <td>MOST_RECENT</td>\n",
       "      <td>5.0</td>\n",
       "      <td>Highly recommended</td>\n",
       "      <td>Good</td>\n",
       "      <td>Venkatesan</td>\n",
       "      <td>== NOT AVAILABLE ==</td>\n",
       "      <td>20190814</td>\n",
       "      <td>0.0</td>\n",
       "      <td>0.0</td>\n",
       "      <td>Alcatel</td>\n",
       "      <td>Alcatel 3V</td>\n",
       "      <td>2019-08-14</td>\n",
       "      <td>33</td>\n",
       "      <td>5.0</td>\n",
       "    </tr>\n",
       "    <tr>\n",
       "      <th>2</th>\n",
       "      <td>2</td>\n",
       "      <td>2</td>\n",
       "      <td>2</td>\n",
       "      <td>MOST_RECENT</td>\n",
       "      <td>3.0</td>\n",
       "      <td>Good</td>\n",
       "      <td>Good</td>\n",
       "      <td>RAJA  JOSHI</td>\n",
       "      <td>Kalahandi District</td>\n",
       "      <td>20190811</td>\n",
       "      <td>0.0</td>\n",
       "      <td>0.0</td>\n",
       "      <td>Alcatel</td>\n",
       "      <td>Alcatel 3V</td>\n",
       "      <td>2019-08-11</td>\n",
       "      <td>32</td>\n",
       "      <td>3.0</td>\n",
       "    </tr>\n",
       "    <tr>\n",
       "      <th>3</th>\n",
       "      <td>3</td>\n",
       "      <td>3</td>\n",
       "      <td>3</td>\n",
       "      <td>MOST_RECENT</td>\n",
       "      <td>5.0</td>\n",
       "      <td>Classy product</td>\n",
       "      <td>Excellent</td>\n",
       "      <td>Debajyoti Ghosh</td>\n",
       "      <td>== NOT AVAILABLE ==</td>\n",
       "      <td>20190809</td>\n",
       "      <td>0.0</td>\n",
       "      <td>0.0</td>\n",
       "      <td>Alcatel</td>\n",
       "      <td>Alcatel 3V</td>\n",
       "      <td>2019-08-09</td>\n",
       "      <td>32</td>\n",
       "      <td>5.0</td>\n",
       "    </tr>\n",
       "    <tr>\n",
       "      <th>4</th>\n",
       "      <td>4</td>\n",
       "      <td>4</td>\n",
       "      <td>4</td>\n",
       "      <td>MOST_RECENT</td>\n",
       "      <td>5.0</td>\n",
       "      <td>Just wow!</td>\n",
       "      <td>Good product... Fast delivery.. and product is...</td>\n",
       "      <td>Alka  Sharma</td>\n",
       "      <td>Moradabad</td>\n",
       "      <td>20190808</td>\n",
       "      <td>0.0</td>\n",
       "      <td>0.0</td>\n",
       "      <td>Alcatel</td>\n",
       "      <td>Alcatel 3V</td>\n",
       "      <td>2019-08-08</td>\n",
       "      <td>32</td>\n",
       "      <td>5.0</td>\n",
       "    </tr>\n",
       "  </tbody>\n",
       "</table>\n",
       "</div>"
      ],
      "text/plain": [
       "  Unnamed: 0 Unnamed: 0.1 Unnamed: 0.1.1 Category_of_overall  \\\n",
       "0          0            0              0         MOST_RECENT   \n",
       "1          1            1              1         MOST_RECENT   \n",
       "2          2            2              2         MOST_RECENT   \n",
       "3          3            3              3         MOST_RECENT   \n",
       "4          4            4              4         MOST_RECENT   \n",
       "\n",
       "   Ratings_of_overall    Title_of_overall  \\\n",
       "0                 5.0           Excellent   \n",
       "1                 5.0  Highly recommended   \n",
       "2                 3.0                Good   \n",
       "3                 5.0      Classy product   \n",
       "4                 5.0           Just wow!   \n",
       "\n",
       "                                  Content_of_overall Customer_of_overall  \\\n",
       "0  this product is very Nyccc all function is sup...       Sintu  Sharma   \n",
       "1                                               Good          Venkatesan   \n",
       "2                                               Good         RAJA  JOSHI   \n",
       "3                                          Excellent     Debajyoti Ghosh   \n",
       "4  Good product... Fast delivery.. and product is...        Alka  Sharma   \n",
       "\n",
       "     Region_of_overall Days_of_overall  Good_of_overall  Bad_of_overall  \\\n",
       "0  == NOT AVAILABLE ==        20190814              1.0             1.0   \n",
       "1  == NOT AVAILABLE ==        20190814              0.0             0.0   \n",
       "2   Kalahandi District        20190811              0.0             0.0   \n",
       "3  == NOT AVAILABLE ==        20190809              0.0             0.0   \n",
       "4            Moradabad        20190808              0.0             0.0   \n",
       "\n",
       "    Vendor        Name       Date  Week  Point  \n",
       "0  Alcatel  Alcatel 3V 2019-08-14    33    5.0  \n",
       "1  Alcatel  Alcatel 3V 2019-08-14    33    5.0  \n",
       "2  Alcatel  Alcatel 3V 2019-08-11    32    3.0  \n",
       "3  Alcatel  Alcatel 3V 2019-08-09    32    5.0  \n",
       "4  Alcatel  Alcatel 3V 2019-08-08    32    5.0  "
      ]
     },
     "execution_count": 45,
     "metadata": {},
     "output_type": "execute_result"
    }
   ],
   "source": [
    "df['Point'] = df['Ratings_of_overall']\n",
    "df.head()"
   ]
  },
  {
   "cell_type": "code",
   "execution_count": 46,
   "metadata": {},
   "outputs": [
    {
     "data": {
      "text/html": [
       "<div>\n",
       "<style scoped>\n",
       "    .dataframe tbody tr th:only-of-type {\n",
       "        vertical-align: middle;\n",
       "    }\n",
       "\n",
       "    .dataframe tbody tr th {\n",
       "        vertical-align: top;\n",
       "    }\n",
       "\n",
       "    .dataframe thead th {\n",
       "        text-align: right;\n",
       "    }\n",
       "</style>\n",
       "<table border=\"1\" class=\"dataframe\">\n",
       "  <thead>\n",
       "    <tr style=\"text-align: right;\">\n",
       "      <th></th>\n",
       "      <th>Vendor</th>\n",
       "      <th>Name</th>\n",
       "      <th>Date</th>\n",
       "      <th>Week</th>\n",
       "      <th>Point</th>\n",
       "    </tr>\n",
       "  </thead>\n",
       "  <tbody>\n",
       "    <tr>\n",
       "      <th>0</th>\n",
       "      <td>Alcatel</td>\n",
       "      <td>Alcatel 3V</td>\n",
       "      <td>2019-08-14</td>\n",
       "      <td>33</td>\n",
       "      <td>5.0</td>\n",
       "    </tr>\n",
       "    <tr>\n",
       "      <th>1</th>\n",
       "      <td>Alcatel</td>\n",
       "      <td>Alcatel 3V</td>\n",
       "      <td>2019-08-14</td>\n",
       "      <td>33</td>\n",
       "      <td>5.0</td>\n",
       "    </tr>\n",
       "    <tr>\n",
       "      <th>2</th>\n",
       "      <td>Alcatel</td>\n",
       "      <td>Alcatel 3V</td>\n",
       "      <td>2019-08-11</td>\n",
       "      <td>32</td>\n",
       "      <td>3.0</td>\n",
       "    </tr>\n",
       "    <tr>\n",
       "      <th>3</th>\n",
       "      <td>Alcatel</td>\n",
       "      <td>Alcatel 3V</td>\n",
       "      <td>2019-08-09</td>\n",
       "      <td>32</td>\n",
       "      <td>5.0</td>\n",
       "    </tr>\n",
       "    <tr>\n",
       "      <th>4</th>\n",
       "      <td>Alcatel</td>\n",
       "      <td>Alcatel 3V</td>\n",
       "      <td>2019-08-08</td>\n",
       "      <td>32</td>\n",
       "      <td>5.0</td>\n",
       "    </tr>\n",
       "  </tbody>\n",
       "</table>\n",
       "</div>"
      ],
      "text/plain": [
       "    Vendor        Name       Date  Week  Point\n",
       "0  Alcatel  Alcatel 3V 2019-08-14    33    5.0\n",
       "1  Alcatel  Alcatel 3V 2019-08-14    33    5.0\n",
       "2  Alcatel  Alcatel 3V 2019-08-11    32    3.0\n",
       "3  Alcatel  Alcatel 3V 2019-08-09    32    5.0\n",
       "4  Alcatel  Alcatel 3V 2019-08-08    32    5.0"
      ]
     },
     "execution_count": 46,
     "metadata": {},
     "output_type": "execute_result"
    }
   ],
   "source": [
    "Flipkart = df[['Vendor', 'Name', 'Date', 'Week', 'Point']]\n",
    "Flipkart.head()"
   ]
  },
  {
   "cell_type": "code",
   "execution_count": 49,
   "metadata": {},
   "outputs": [],
   "source": [
    "df30 = Flipkart.loc[(Flipkart['Week'] == 30)]\n",
    "df31 = Flipkart.loc[(Flipkart['Week'] == 31)]\n",
    "df32 = Flipkart.loc[(Flipkart['Week'] == 32)]"
   ]
  },
  {
   "cell_type": "code",
   "execution_count": 50,
   "metadata": {},
   "outputs": [],
   "source": [
    "Flipkart3032 = pd.concat([df30, df31, df32])"
   ]
  },
  {
   "cell_type": "code",
   "execution_count": 59,
   "metadata": {},
   "outputs": [],
   "source": [
    "Flipkart3032['Vendor'] = Flipkart3032['Vendor'].replace('Redmi','Xiaomi')\n",
    "Flipkart3032['Vendor'] = Flipkart3032['Vendor'].replace('Honor','Huawei')\n",
    "Flipkart3032['Vendor'] = Flipkart3032['Vendor'].replace('Alcatel','Others')\n",
    "Flipkart3032['Vendor'] = Flipkart3032['Vendor'].replace('Apple','Others')\n",
    "Flipkart3032['Vendor'] = Flipkart3032['Vendor'].replace('Google','Others')\n",
    "Flipkart3032['Vendor'] = Flipkart3032['Vendor'].replace('Infinix','Others')\n",
    "Flipkart3032['Vendor'] = Flipkart3032['Vendor'].replace('Moto','Others')\n",
    "Flipkart3032['Vendor'] = Flipkart3032['Vendor'].replace('Panasonic','Others')\n",
    "Flipkart3032['Vendor'] = Flipkart3032['Vendor'].replace('Asus','Others')"
   ]
  },
  {
   "cell_type": "code",
   "execution_count": 69,
   "metadata": {},
   "outputs": [
    {
     "data": {
      "text/plain": [
       "Vendor\n",
       "Huawei       886\n",
       "OPPO         664\n",
       "Others      1291\n",
       "Realme     19115\n",
       "Samsung      608\n",
       "Vivo        7315\n",
       "Xiaomi     15148\n",
       "Name: Vendor, dtype: int64"
      ]
     },
     "execution_count": 69,
     "metadata": {},
     "output_type": "execute_result"
    }
   ],
   "source": [
    "Flipkart_count = Flipkart3032['Vendor'].groupby(Flipkart3032['Vendor']).count()\n",
    "Flipkart_count"
   ]
  },
  {
   "cell_type": "code",
   "execution_count": 61,
   "metadata": {},
   "outputs": [],
   "source": [
    "# Flipkart3032.to_csv(\"Flipkart3032.csv\")"
   ]
  },
  {
   "cell_type": "code",
   "execution_count": 62,
   "metadata": {},
   "outputs": [
    {
     "data": {
      "text/plain": [
       "(45027, 5)"
      ]
     },
     "execution_count": 62,
     "metadata": {},
     "output_type": "execute_result"
    }
   ],
   "source": [
    "# Flipkart3032.shape"
   ]
  },
  {
   "cell_type": "code",
   "execution_count": 64,
   "metadata": {},
   "outputs": [],
   "source": [
    "# f = pd.read_csv(\"Flipkart3032.csv\")\n",
    "# a = pd.read_csv(\"Amazon3032.csv\")"
   ]
  },
  {
   "cell_type": "code",
   "execution_count": 57,
   "metadata": {},
   "outputs": [
    {
     "data": {
      "text/plain": [
       "(29607, 6)"
      ]
     },
     "execution_count": 57,
     "metadata": {},
     "output_type": "execute_result"
    }
   ],
   "source": [
    "# a.shape"
   ]
  },
  {
   "cell_type": "code",
   "execution_count": 65,
   "metadata": {},
   "outputs": [],
   "source": [
    "# Amazon_Flipkart = pd.concat([a, f], ignore_index = True)"
   ]
  },
  {
   "cell_type": "code",
   "execution_count": 66,
   "metadata": {},
   "outputs": [
    {
     "data": {
      "text/plain": [
       "(74634, 6)"
      ]
     },
     "execution_count": 66,
     "metadata": {},
     "output_type": "execute_result"
    }
   ],
   "source": [
    "# Amazon_Flipkart.shape"
   ]
  },
  {
   "cell_type": "code",
   "execution_count": 67,
   "metadata": {},
   "outputs": [],
   "source": [
    "# Amazon_Flipkart.to_csv(\"Amazon_Flipkart3032.csv\")"
   ]
  },
  {
   "cell_type": "code",
   "execution_count": 70,
   "metadata": {},
   "outputs": [
    {
     "data": {
      "text/plain": [
       "Vendor\n",
       "Samsung      608\n",
       "OPPO         664\n",
       "Huawei       886\n",
       "Others      1291\n",
       "Vivo        7315\n",
       "Xiaomi     15148\n",
       "Realme     19115\n",
       "Name: Vendor, dtype: int64"
      ]
     },
     "execution_count": 70,
     "metadata": {},
     "output_type": "execute_result"
    }
   ],
   "source": [
    "Flipkart_segon = Flipkart_count.sort_values(ascending = True)\n",
    "Flipkart_segon"
   ]
  },
  {
   "cell_type": "code",
   "execution_count": 71,
   "metadata": {},
   "outputs": [
    {
     "data": {
      "text/plain": [
       "[608, 664, 886, 1291, 7315, 15148, 19115]"
      ]
     },
     "execution_count": 71,
     "metadata": {},
     "output_type": "execute_result"
    }
   ],
   "source": [
    "Flipkart_list = list(Flipkart_segon)\n",
    "Flipkart_list"
   ]
  },
  {
   "cell_type": "code",
   "execution_count": 72,
   "metadata": {},
   "outputs": [],
   "source": [
    "import matplotlib.pyplot as plt\n",
    "plt.rcParams['figure.figsize'] = [15, 9]\n",
    "group_names = ['Samsung', 'OPPO', 'Huawei', 'Others', 'Vivo', 'Xiaomi', 'Realme']\n",
    "group_size = Flipkart_segon\n",
    "group_colors = ['dodgerblue', '#0A709A', 'green', '#76AD3B', '#FDDB5E', '#F44E54', '#FF9904']\n",
    "# ['#F44E54', 'coral']\n",
    "group_explodes = (0.17, 0.04, 0.04, 0.04, 0.04, 0.04, 0.04)"
   ]
  },
  {
   "cell_type": "code",
   "execution_count": 73,
   "metadata": {},
   "outputs": [
    {
     "data": {
      "image/png": "[encoded data removed]",
      "text/plain": [
       "<Figure size 1080x648 with 1 Axes>"
      ]
     },
     "metadata": {},
     "output_type": "display_data"
    }
   ],
   "source": [
    "plt.pie(group_size, explode = group_explodes, labels = group_names, colors = group_colors, \n",
    "        autopct = '%1.2f%%', shadow = True, startangle = 90)\n",
    "plt.axis('equal')\n",
    "plt.title('Flipkart Review Count Ratio 30 - 32 weeks', fontsize = 20)\n",
    "plt.show() "
   ]
  },
  {
   "cell_type": "code",
   "execution_count": 79,
   "metadata": {},
   "outputs": [],
   "source": [
    "df30 = Flipkart3032.loc[(Flipkart3032['Week'] == 30)]\n",
    "df30_count = df30['Vendor'].groupby(df30['Vendor']).count()\n",
    "\n",
    "df31 = Flipkart3032.loc[(Flipkart3032['Week'] == 31)]\n",
    "df31_count = df31['Vendor'].groupby(df31['Vendor']).count()\n",
    "\n",
    "df32 = Flipkart3032.loc[(Flipkart3032['Week'] == 32)]\n",
    "df32_count = df32['Vendor'].groupby(df32['Vendor']).count()"
   ]
  },
  {
   "cell_type": "code",
   "execution_count": 81,
   "metadata": {},
   "outputs": [
    {
     "data": {
      "text/plain": [
       "Vendor\n",
       "Huawei      260\n",
       "OPPO        293\n",
       "Others      469\n",
       "Realme     6575\n",
       "Samsung     226\n",
       "Vivo       2632\n",
       "Xiaomi     4877\n",
       "Name: Vendor, dtype: int64"
      ]
     },
     "execution_count": 81,
     "metadata": {},
     "output_type": "execute_result"
    }
   ],
   "source": [
    "df30_count"
   ]
  },
  {
   "cell_type": "code",
   "execution_count": 82,
   "metadata": {},
   "outputs": [
    {
     "data": {
      "text/plain": [
       "[[260, 293, 469, 6575, 226, 2632, 4877],\n",
       " [346, 212, 415, 6583, 190, 2650, 5683],\n",
       " [280, 159, 407, 5957, 192, 2033, 4588]]"
      ]
     },
     "execution_count": 82,
     "metadata": {},
     "output_type": "execute_result"
    }
   ],
   "source": [
    "df_list = [list(df30_count), list(df31_count), list(df32_count)]\n",
    "# df_list = np.array(df_list).T\n",
    "df_list"
   ]
  },
  {
   "cell_type": "code",
   "execution_count": 83,
   "metadata": {},
   "outputs": [
    {
     "data": {
      "text/html": [
       "<div>\n",
       "<style scoped>\n",
       "    .dataframe tbody tr th:only-of-type {\n",
       "        vertical-align: middle;\n",
       "    }\n",
       "\n",
       "    .dataframe tbody tr th {\n",
       "        vertical-align: top;\n",
       "    }\n",
       "\n",
       "    .dataframe thead th {\n",
       "        text-align: right;\n",
       "    }\n",
       "</style>\n",
       "<table border=\"1\" class=\"dataframe\">\n",
       "  <thead>\n",
       "    <tr style=\"text-align: right;\">\n",
       "      <th></th>\n",
       "      <th>Huawei</th>\n",
       "      <th>OPPO</th>\n",
       "      <th>Others</th>\n",
       "      <th>Realme</th>\n",
       "      <th>Samsung</th>\n",
       "      <th>Vivo</th>\n",
       "      <th>Xiaomi</th>\n",
       "    </tr>\n",
       "  </thead>\n",
       "  <tbody>\n",
       "    <tr>\n",
       "      <th>0</th>\n",
       "      <td>260</td>\n",
       "      <td>293</td>\n",
       "      <td>469</td>\n",
       "      <td>6575</td>\n",
       "      <td>226</td>\n",
       "      <td>2632</td>\n",
       "      <td>4877</td>\n",
       "    </tr>\n",
       "    <tr>\n",
       "      <th>1</th>\n",
       "      <td>346</td>\n",
       "      <td>212</td>\n",
       "      <td>415</td>\n",
       "      <td>6583</td>\n",
       "      <td>190</td>\n",
       "      <td>2650</td>\n",
       "      <td>5683</td>\n",
       "    </tr>\n",
       "    <tr>\n",
       "      <th>2</th>\n",
       "      <td>280</td>\n",
       "      <td>159</td>\n",
       "      <td>407</td>\n",
       "      <td>5957</td>\n",
       "      <td>192</td>\n",
       "      <td>2033</td>\n",
       "      <td>4588</td>\n",
       "    </tr>\n",
       "  </tbody>\n",
       "</table>\n",
       "</div>"
      ],
      "text/plain": [
       "   Huawei  OPPO  Others  Realme  Samsung  Vivo  Xiaomi\n",
       "0     260   293     469    6575      226  2632    4877\n",
       "1     346   212     415    6583      190  2650    5683\n",
       "2     280   159     407    5957      192  2033    4588"
      ]
     },
     "execution_count": 83,
     "metadata": {},
     "output_type": "execute_result"
    }
   ],
   "source": [
    "df_flipkart = pd.DataFrame(df_list, columns = ['Huawei', 'OPPO', 'Others', 'Realme', 'Samsung', 'Vivo', 'Xiaomi'], index = None)\n",
    "df_flipkart"
   ]
  },
  {
   "cell_type": "code",
   "execution_count": 84,
   "metadata": {},
   "outputs": [
    {
     "data": {
      "text/html": [
       "<div>\n",
       "<style scoped>\n",
       "    .dataframe tbody tr th:only-of-type {\n",
       "        vertical-align: middle;\n",
       "    }\n",
       "\n",
       "    .dataframe tbody tr th {\n",
       "        vertical-align: top;\n",
       "    }\n",
       "\n",
       "    .dataframe thead th {\n",
       "        text-align: right;\n",
       "    }\n",
       "</style>\n",
       "<table border=\"1\" class=\"dataframe\">\n",
       "  <thead>\n",
       "    <tr style=\"text-align: right;\">\n",
       "      <th></th>\n",
       "      <th>Samsung</th>\n",
       "      <th>OPPO</th>\n",
       "      <th>Huawei</th>\n",
       "      <th>Others</th>\n",
       "      <th>Vivo</th>\n",
       "      <th>Xiaomi</th>\n",
       "      <th>Realme</th>\n",
       "    </tr>\n",
       "  </thead>\n",
       "  <tbody>\n",
       "    <tr>\n",
       "      <th>0</th>\n",
       "      <td>226</td>\n",
       "      <td>293</td>\n",
       "      <td>260</td>\n",
       "      <td>469</td>\n",
       "      <td>2632</td>\n",
       "      <td>4877</td>\n",
       "      <td>6575</td>\n",
       "    </tr>\n",
       "    <tr>\n",
       "      <th>1</th>\n",
       "      <td>190</td>\n",
       "      <td>212</td>\n",
       "      <td>346</td>\n",
       "      <td>415</td>\n",
       "      <td>2650</td>\n",
       "      <td>5683</td>\n",
       "      <td>6583</td>\n",
       "    </tr>\n",
       "    <tr>\n",
       "      <th>2</th>\n",
       "      <td>192</td>\n",
       "      <td>159</td>\n",
       "      <td>280</td>\n",
       "      <td>407</td>\n",
       "      <td>2033</td>\n",
       "      <td>4588</td>\n",
       "      <td>5957</td>\n",
       "    </tr>\n",
       "  </tbody>\n",
       "</table>\n",
       "</div>"
      ],
      "text/plain": [
       "   Samsung  OPPO  Huawei  Others  Vivo  Xiaomi  Realme\n",
       "0      226   293     260     469  2632    4877    6575\n",
       "1      190   212     346     415  2650    5683    6583\n",
       "2      192   159     280     407  2033    4588    5957"
      ]
     },
     "execution_count": 84,
     "metadata": {},
     "output_type": "execute_result"
    }
   ],
   "source": [
    "df_flipkart = df_flipkart[['Samsung', 'OPPO', 'Huawei', 'Others', 'Vivo', 'Xiaomi', 'Realme']]\n",
    "df_flipkart"
   ]
  },
  {
   "cell_type": "code",
   "execution_count": 85,
   "metadata": {},
   "outputs": [],
   "source": [
    "flipkart_list = np.array(df_flipkart).tolist()\n"
   ]
  },
  {
   "cell_type": "code",
   "execution_count": 86,
   "metadata": {},
   "outputs": [
    {
     "data": {
      "text/plain": [
       "array([[ 226,  190,  192],\n",
       "       [ 293,  212,  159],\n",
       "       [ 260,  346,  280],\n",
       "       [ 469,  415,  407],\n",
       "       [2632, 2650, 2033],\n",
       "       [4877, 5683, 4588],\n",
       "       [6575, 6583, 5957]])"
      ]
     },
     "execution_count": 86,
     "metadata": {},
     "output_type": "execute_result"
    }
   ],
   "source": [
    "flipkart_t = np.array(flipkart_list).T\n",
    "flipkart_t"
   ]
  },
  {
   "cell_type": "code",
   "execution_count": 87,
   "metadata": {},
   "outputs": [
    {
     "data": {
      "image/png": "[encoded data removed]",
      "text/plain": [
       "<Figure size 1080x648 with 1 Axes>"
      ]
     },
     "metadata": {
      "needs_background": "light"
     },
     "output_type": "display_data"
    }
   ],
   "source": [
    "from matplotlib import rc\n",
    "import pandas as pd \n",
    "r = [0,1,2]\n",
    "raw_data = {'Samsung' : flipkart_t[0], \\\n",
    "            'OPPO' : flipkart_t[1], \\\n",
    "            'Huawei' : flipkart_t[2], \\\n",
    "            'Others' : flipkart_t[3], \\\n",
    "            'Vivo' : flipkart_t[4], \\\n",
    "            'Xiaomi' : flipkart_t[5], \\\n",
    "            'Realme' : flipkart_t[6]}\n",
    "\n",
    "df_stack = pd.DataFrame(raw_data)\n",
    "\n",
    "totals = [i+j+k+l+m+n+o for i,j,k,l,m,n,o in zip(df_stack['Samsung'], \n",
    "df_stack['OPPO'], df_stack['Huawei'], df_stack['Others'], df_stack['Vivo'], \n",
    "df_stack['Xiaomi'], df_stack['Realme'])]\n",
    "\n",
    "Samsung = [i / j * 100 for i,j in zip(df_stack['Samsung'], totals)]\n",
    "OPPO = [i / j * 100 for i,j in zip(df_stack['OPPO'], totals)]\n",
    "Huawei = [i / j * 100 for i,j in zip(df_stack['Huawei'], totals)]\n",
    "Others = [i / j * 100 for i,j in zip(df_stack['Others'], totals)]\n",
    "Vivo = [i / j * 100 for i,j in zip(df_stack['Vivo'], totals)]\n",
    "Xiaomi = [i / j * 100 for i,j in zip(df_stack['Xiaomi'], totals)]\n",
    "Realme = [i / j * 100 for i,j in zip(df_stack['Realme'], totals)]\n",
    "\n",
    "\n",
    "barWidth = 0.65\n",
    "names = ('30Week','31Week', '32Week')\n",
    "\n",
    "# Create Bars\n",
    "plt.bar(r, Samsung, color='dodgerblue', edgecolor='white', width=barWidth, \n",
    "label=\"Samsung\")\n",
    "\n",
    "plt.bar(r, OPPO, bottom=Samsung, color='#0A709A', edgecolor='white', \n",
    "width=barWidth, label=\"OPPO\")\n",
    "\n",
    "plt.bar(r, Huawei, bottom=[i+j for i,j in zip(Samsung, OPPO)], color='green', \n",
    "edgecolor='white', width=barWidth, label=\"Huawei\")\n",
    "\n",
    "plt.bar(r, Others, bottom=[i+j+k for i,j,k in zip(Samsung, OPPO, Huawei)], \n",
    "color='#76AD3B', edgecolor='white', width=barWidth, label=\"Others\")\n",
    "\n",
    "plt.bar(r, Vivo, bottom=[i+j+k+l for i,j,k,l in zip(Samsung, OPPO, Huawei, Others)],\n",
    "color='#FDDB5E', edgecolor='white', width=barWidth, label=\"Vivo\")\n",
    "\n",
    "plt.bar(r, Xiaomi, bottom=[i+j+k+l+m for i,j,k,l,m in zip(Samsung, OPPO, Huawei, Others, Vivo)],\n",
    "color='#FF9904', edgecolor='white', width=barWidth, label=\"Xiaomi\")\n",
    "\n",
    "plt.bar(r, Realme, bottom=[i+j+k+l+m+n for i,j,k,l,m,n in zip(Samsung, OPPO, Huawei, Others, Vivo, Xiaomi)], \n",
    "color='#F44E54', edgecolor='white', width=barWidth, label=\"Realme\")\n",
    "\n",
    "plt.title(\"Flipkart 30 - 32 weeks Review Count\", loc='left', fontsize=25, fontweight=0, color='black')\n",
    "\n",
    "# x축\n",
    "plt.xticks(r, names, fontsize = 15)\n",
    "plt.xlabel(\"Weeks\", fontsize = 20)\n",
    "\n",
    "# y축\n",
    "plt.yticks(fontsize = 15)\n",
    "plt.ylabel(\"Review Percentage\", fontsize = 20)\n",
    "\n",
    "plt.legend(loc='upper left', bbox_to_anchor=(1,1), ncol=1, fontsize = 15)\n",
    "\n",
    "plt.show()"
   ]
  },
  {
   "cell_type": "code",
   "execution_count": 88,
   "metadata": {},
   "outputs": [
    {
     "data": {
      "image/png": "[encoded data removed]",
      "text/plain": [
       "<Figure size 1080x648 with 1 Axes>"
      ]
     },
     "metadata": {
      "needs_background": "light"
     },
     "output_type": "display_data"
    }
   ],
   "source": [
    "import seaborn as sns\n",
    " \n",
    "x = [(str(_) + 'Week') for _ in range(30,33)] #x축 label\n",
    "y=[flipkart_t[0], flipkart_t[1], flipkart_t[2], flipkart_t[3], flipkart_t[4], flipkart_t[5], flipkart_t[6]] #Reivew 갯수 누적\n",
    " \n",
    "pal = ['dodgerblue', '#0A709A', 'green', '#76AD3B', '#FDDB5E', '#FF9904', '#F44E54']\n",
    "plt.stackplot(x,y, labels=['Samsung','OPPO','Huawei', 'Others', 'Vivo', 'Xiaomi', 'Realme'], \n",
    "              colors=pal, alpha=0.45 )\n",
    "\n",
    "plt.title(\"Flipkart 30 - 32 weeks Review Count\", loc='left', fontsize=25, fontweight=0, color='black')\n",
    "plt.xlabel(\"Weeks\", fontsize = 17)\n",
    "plt.xticks(fontsize = 15)\n",
    "\n",
    "plt.ylabel(\"Review counts\", fontsize = 17)\n",
    "plt.yticks(fontsize = 15)\n",
    "\n",
    "plt.legend(loc='upper right', fontsize = 15)\n",
    "plt.show()\n",
    " "
   ]
  },
  {
   "cell_type": "code",
   "execution_count": null,
   "metadata": {},
   "outputs": [],
   "source": []
  }
 ],
 "metadata": {
  "kernelspec": {
   "display_name": "Python 3",
   "language": "python",
   "name": "python3"
  },
  "language_info": {
   "codemirror_mode": {
    "name": "ipython",
    "version": 3
   },
   "file_extension": ".py",
   "mimetype": "text/x-python",
   "name": "python",
   "nbconvert_exporter": "python",
   "pygments_lexer": "ipython3",
   "version": "3.7.3"
  }
 },
 "nbformat": 4,
 "nbformat_minor": 2
}
