{
 "cells": [
  {
   "cell_type": "code",
   "execution_count": 1,
   "metadata": {},
   "outputs": [],
   "source": [
    "import pandas as pd"
   ]
  },
  {
   "cell_type": "code",
   "execution_count": 2,
   "metadata": {},
   "outputs": [],
   "source": [
    "samsung_ms = pd.read_csv('Amazon_5weeks.csv')"
   ]
  },
  {
   "cell_type": "code",
   "execution_count": 3,
   "metadata": {},
   "outputs": [],
   "source": [
    "#데이터 타임으로 변경\n",
    "samsung_ms['Date'] = pd.to_datetime(samsung_ms.loc[:,'Date'])"
   ]
  },
  {
   "cell_type": "code",
   "execution_count": 4,
   "metadata": {},
   "outputs": [],
   "source": [
    "#두 컬럼만 불러오기\n",
    "samsung_ms = samsung_ms[['Date', 'Product_name']]"
   ]
  },
  {
   "cell_type": "code",
   "execution_count": 5,
   "metadata": {},
   "outputs": [],
   "source": [
    "# 데이트 뉴, 앞으로 설정\n",
    "samsung_ms = samsung_ms.set_index('Date')"
   ]
  },
  {
   "cell_type": "code",
   "execution_count": 6,
   "metadata": {},
   "outputs": [],
   "source": [
    "#띄어쓰기 별로 나누고 불러오기\n",
    "samsung_ms['Product_name'] = samsung_ms['Product_name'].str.split(' ').str[:3]"
   ]
  },
  {
   "cell_type": "code",
   "execution_count": 7,
   "metadata": {},
   "outputs": [],
   "source": [
    "#삼성제품만 불러오기\n",
    "samsung_ms = samsung_ms[samsung_ms['Product_name'].str[0] == 'Samsung']"
   ]
  },
  {
   "cell_type": "code",
   "execution_count": 8,
   "metadata": {},
   "outputs": [],
   "source": [
    "#제품 이름만 불러오기 \n",
    "samsung_ms['Product_name'] = samsung_ms['Product_name'].str[2]"
   ]
  },
  {
   "cell_type": "code",
   "execution_count": 9,
   "metadata": {},
   "outputs": [],
   "source": [
    "#제품 시리즈만 불러오기\n",
    "samsung_ms['Product_name'] = samsung_ms['Product_name'].str[0]"
   ]
  },
  {
   "cell_type": "code",
   "execution_count": 10,
   "metadata": {},
   "outputs": [
    {
     "data": {
      "text/plain": [
       "Date\n",
       "2019-07-26    M series\n",
       "2019-07-25    M series\n",
       "2019-07-23    M series\n",
       "2019-07-22    M series\n",
       "2019-07-22    M series\n",
       "Name: Product_name, dtype: object"
      ]
     },
     "execution_count": 10,
     "metadata": {},
     "output_type": "execute_result"
    }
   ],
   "source": [
    "#진짜 제품라인으로 이름 변경\n",
    "samsung_ms['Product_name'] = samsung_ms['Product_name'].replace('A','A series')\n",
    "samsung_ms['Product_name'] = samsung_ms['Product_name'].replace('J','J series')\n",
    "samsung_ms['Product_name'] = samsung_ms['Product_name'].replace('M','M series')\n",
    "samsung_ms['Product_name'] = samsung_ms['Product_name'].replace('O','ON series')\n",
    "# samsung_ms['Name'] = samsung_ms['Name'].replace('P','ON series')\n",
    "samsung_ms['Product_name'] = samsung_ms['Product_name'].replace('S','S series')\n",
    "\n",
    "\n",
    "samsung_ms['Product_name'].head()"
   ]
  },
  {
   "cell_type": "code",
   "execution_count": 11,
   "metadata": {},
   "outputs": [
    {
     "data": {
      "text/html": [
       "<div>\n",
       "<style scoped>\n",
       "    .dataframe tbody tr th:only-of-type {\n",
       "        vertical-align: middle;\n",
       "    }\n",
       "\n",
       "    .dataframe tbody tr th {\n",
       "        vertical-align: top;\n",
       "    }\n",
       "\n",
       "    .dataframe thead tr th {\n",
       "        text-align: left;\n",
       "    }\n",
       "\n",
       "    .dataframe thead tr:last-of-type th {\n",
       "        text-align: right;\n",
       "    }\n",
       "</style>\n",
       "<table border=\"1\" class=\"dataframe\">\n",
       "  <thead>\n",
       "    <tr>\n",
       "      <th></th>\n",
       "      <th></th>\n",
       "      <th colspan=\"5\" halign=\"left\">Product_name</th>\n",
       "    </tr>\n",
       "    <tr>\n",
       "      <th></th>\n",
       "      <th>Date</th>\n",
       "      <th>2019-07-28</th>\n",
       "      <th>2019-08-04</th>\n",
       "      <th>2019-08-11</th>\n",
       "      <th>2019-08-18</th>\n",
       "      <th>2019-08-25</th>\n",
       "    </tr>\n",
       "    <tr>\n",
       "      <th>Product_name</th>\n",
       "      <th>Date</th>\n",
       "      <th></th>\n",
       "      <th></th>\n",
       "      <th></th>\n",
       "      <th></th>\n",
       "      <th></th>\n",
       "    </tr>\n",
       "  </thead>\n",
       "  <tbody>\n",
       "    <tr>\n",
       "      <th rowspan=\"5\" valign=\"top\">A series</th>\n",
       "      <th>2019-07-22</th>\n",
       "      <td>15.0</td>\n",
       "      <td>NaN</td>\n",
       "      <td>NaN</td>\n",
       "      <td>NaN</td>\n",
       "      <td>NaN</td>\n",
       "    </tr>\n",
       "    <tr>\n",
       "      <th>2019-07-23</th>\n",
       "      <td>20.0</td>\n",
       "      <td>NaN</td>\n",
       "      <td>NaN</td>\n",
       "      <td>NaN</td>\n",
       "      <td>NaN</td>\n",
       "    </tr>\n",
       "    <tr>\n",
       "      <th>2019-07-24</th>\n",
       "      <td>20.0</td>\n",
       "      <td>NaN</td>\n",
       "      <td>NaN</td>\n",
       "      <td>NaN</td>\n",
       "      <td>NaN</td>\n",
       "    </tr>\n",
       "    <tr>\n",
       "      <th>2019-07-25</th>\n",
       "      <td>12.0</td>\n",
       "      <td>NaN</td>\n",
       "      <td>NaN</td>\n",
       "      <td>NaN</td>\n",
       "      <td>NaN</td>\n",
       "    </tr>\n",
       "    <tr>\n",
       "      <th>2019-07-26</th>\n",
       "      <td>22.0</td>\n",
       "      <td>NaN</td>\n",
       "      <td>NaN</td>\n",
       "      <td>NaN</td>\n",
       "      <td>NaN</td>\n",
       "    </tr>\n",
       "  </tbody>\n",
       "</table>\n",
       "</div>"
      ],
      "text/plain": [
       "                        Product_name                                   \\\n",
       "Date                      2019-07-28 2019-08-04 2019-08-11 2019-08-18   \n",
       "Product_name Date                                                       \n",
       "A series     2019-07-22         15.0        NaN        NaN        NaN   \n",
       "             2019-07-23         20.0        NaN        NaN        NaN   \n",
       "             2019-07-24         20.0        NaN        NaN        NaN   \n",
       "             2019-07-25         12.0        NaN        NaN        NaN   \n",
       "             2019-07-26         22.0        NaN        NaN        NaN   \n",
       "\n",
       "                                    \n",
       "Date                    2019-08-25  \n",
       "Product_name Date                   \n",
       "A series     2019-07-22        NaN  \n",
       "             2019-07-23        NaN  \n",
       "             2019-07-24        NaN  \n",
       "             2019-07-25        NaN  \n",
       "             2019-07-26        NaN  "
      ]
     },
     "execution_count": 11,
     "metadata": {},
     "output_type": "execute_result"
    }
   ],
   "source": [
    "#주차별로 멀티 인덱스 만들기\n",
    "a_samsung_ms = samsung_ms.groupby(['Product_name','Date']).resample('w').count().unstack()\n",
    "a_samsung_ms.head()"
   ]
  },
  {
   "cell_type": "code",
   "execution_count": 12,
   "metadata": {},
   "outputs": [
    {
     "data": {
      "text/html": [
       "<div>\n",
       "<style scoped>\n",
       "    .dataframe tbody tr th:only-of-type {\n",
       "        vertical-align: middle;\n",
       "    }\n",
       "\n",
       "    .dataframe tbody tr th {\n",
       "        vertical-align: top;\n",
       "    }\n",
       "\n",
       "    .dataframe thead tr th {\n",
       "        text-align: left;\n",
       "    }\n",
       "\n",
       "    .dataframe thead tr:last-of-type th {\n",
       "        text-align: right;\n",
       "    }\n",
       "</style>\n",
       "<table border=\"1\" class=\"dataframe\">\n",
       "  <thead>\n",
       "    <tr>\n",
       "      <th></th>\n",
       "      <th></th>\n",
       "      <th colspan=\"5\" halign=\"left\">Product_name</th>\n",
       "    </tr>\n",
       "    <tr>\n",
       "      <th></th>\n",
       "      <th>Date</th>\n",
       "      <th>2019-07-28</th>\n",
       "      <th>2019-08-04</th>\n",
       "      <th>2019-08-11</th>\n",
       "      <th>2019-08-18</th>\n",
       "      <th>2019-08-25</th>\n",
       "    </tr>\n",
       "    <tr>\n",
       "      <th>Product_name</th>\n",
       "      <th>Date</th>\n",
       "      <th></th>\n",
       "      <th></th>\n",
       "      <th></th>\n",
       "      <th></th>\n",
       "      <th></th>\n",
       "    </tr>\n",
       "  </thead>\n",
       "  <tbody>\n",
       "    <tr>\n",
       "      <th rowspan=\"5\" valign=\"top\">A series</th>\n",
       "      <th>2019-07-22</th>\n",
       "      <td>15.0</td>\n",
       "      <td>0.0</td>\n",
       "      <td>0.0</td>\n",
       "      <td>0.0</td>\n",
       "      <td>0.0</td>\n",
       "    </tr>\n",
       "    <tr>\n",
       "      <th>2019-07-23</th>\n",
       "      <td>20.0</td>\n",
       "      <td>0.0</td>\n",
       "      <td>0.0</td>\n",
       "      <td>0.0</td>\n",
       "      <td>0.0</td>\n",
       "    </tr>\n",
       "    <tr>\n",
       "      <th>2019-07-24</th>\n",
       "      <td>20.0</td>\n",
       "      <td>0.0</td>\n",
       "      <td>0.0</td>\n",
       "      <td>0.0</td>\n",
       "      <td>0.0</td>\n",
       "    </tr>\n",
       "    <tr>\n",
       "      <th>2019-07-25</th>\n",
       "      <td>12.0</td>\n",
       "      <td>0.0</td>\n",
       "      <td>0.0</td>\n",
       "      <td>0.0</td>\n",
       "      <td>0.0</td>\n",
       "    </tr>\n",
       "    <tr>\n",
       "      <th>2019-07-26</th>\n",
       "      <td>22.0</td>\n",
       "      <td>0.0</td>\n",
       "      <td>0.0</td>\n",
       "      <td>0.0</td>\n",
       "      <td>0.0</td>\n",
       "    </tr>\n",
       "  </tbody>\n",
       "</table>\n",
       "</div>"
      ],
      "text/plain": [
       "                        Product_name                                   \\\n",
       "Date                      2019-07-28 2019-08-04 2019-08-11 2019-08-18   \n",
       "Product_name Date                                                       \n",
       "A series     2019-07-22         15.0        0.0        0.0        0.0   \n",
       "             2019-07-23         20.0        0.0        0.0        0.0   \n",
       "             2019-07-24         20.0        0.0        0.0        0.0   \n",
       "             2019-07-25         12.0        0.0        0.0        0.0   \n",
       "             2019-07-26         22.0        0.0        0.0        0.0   \n",
       "\n",
       "                                    \n",
       "Date                    2019-08-25  \n",
       "Product_name Date                   \n",
       "A series     2019-07-22        0.0  \n",
       "             2019-07-23        0.0  \n",
       "             2019-07-24        0.0  \n",
       "             2019-07-25        0.0  \n",
       "             2019-07-26        0.0  "
      ]
     },
     "execution_count": 12,
     "metadata": {},
     "output_type": "execute_result"
    }
   ],
   "source": [
    "#결측값 = 0 처리\n",
    "a_samsung_ms = a_samsung_ms.fillna(0)\n",
    "a_samsung_ms.head()"
   ]
  },
  {
   "cell_type": "code",
   "execution_count": 13,
   "metadata": {},
   "outputs": [],
   "source": [
    "#데이트 뉴 행으로 정렬하기 \n",
    "a_samsung_ms1 = a_samsung_ms.sum(axis=1, level = 'Date')"
   ]
  },
  {
   "cell_type": "code",
   "execution_count": 14,
   "metadata": {},
   "outputs": [
    {
     "data": {
      "text/html": [
       "<div>\n",
       "<style scoped>\n",
       "    .dataframe tbody tr th:only-of-type {\n",
       "        vertical-align: middle;\n",
       "    }\n",
       "\n",
       "    .dataframe tbody tr th {\n",
       "        vertical-align: top;\n",
       "    }\n",
       "\n",
       "    .dataframe thead th {\n",
       "        text-align: right;\n",
       "    }\n",
       "</style>\n",
       "<table border=\"1\" class=\"dataframe\">\n",
       "  <thead>\n",
       "    <tr style=\"text-align: right;\">\n",
       "      <th>Date</th>\n",
       "      <th>2019-07-28 00:00:00</th>\n",
       "      <th>2019-08-04 00:00:00</th>\n",
       "      <th>2019-08-11 00:00:00</th>\n",
       "      <th>2019-08-18 00:00:00</th>\n",
       "      <th>2019-08-25 00:00:00</th>\n",
       "    </tr>\n",
       "    <tr>\n",
       "      <th>Product_name</th>\n",
       "      <th></th>\n",
       "      <th></th>\n",
       "      <th></th>\n",
       "      <th></th>\n",
       "      <th></th>\n",
       "    </tr>\n",
       "  </thead>\n",
       "  <tbody>\n",
       "    <tr>\n",
       "      <th>A series</th>\n",
       "      <td>110.0</td>\n",
       "      <td>99.0</td>\n",
       "      <td>47.0</td>\n",
       "      <td>84.0</td>\n",
       "      <td>104.0</td>\n",
       "    </tr>\n",
       "    <tr>\n",
       "      <th>M series</th>\n",
       "      <td>4740.0</td>\n",
       "      <td>3337.0</td>\n",
       "      <td>1062.0</td>\n",
       "      <td>1412.0</td>\n",
       "      <td>7318.0</td>\n",
       "    </tr>\n",
       "  </tbody>\n",
       "</table>\n",
       "</div>"
      ],
      "text/plain": [
       "Date          2019-07-28  2019-08-04  2019-08-11  2019-08-18  2019-08-25\n",
       "Product_name                                                            \n",
       "A series           110.0        99.0        47.0        84.0       104.0\n",
       "M series          4740.0      3337.0      1062.0      1412.0      7318.0"
      ]
     },
     "execution_count": 14,
     "metadata": {},
     "output_type": "execute_result"
    }
   ],
   "source": [
    "#주+벤더별 정렬하기\n",
    "a_samsung_ms2 = a_samsung_ms1.sum(axis=0, level = 'Product_name')\n",
    "a_samsung_ms2"
   ]
  },
  {
   "cell_type": "code",
   "execution_count": 15,
   "metadata": {},
   "outputs": [],
   "source": [
    "# # 불필요한 칼럼 삭제\n",
    "# a_samsung_ms2 = a_samsung_ms2.drop(a_samsung_ms2.columns[:3], axis='columns')\n",
    "# a_samsung_ms2"
   ]
  },
  {
   "cell_type": "code",
   "execution_count": 16,
   "metadata": {},
   "outputs": [
    {
     "data": {
      "text/html": [
       "<div>\n",
       "<style scoped>\n",
       "    .dataframe tbody tr th:only-of-type {\n",
       "        vertical-align: middle;\n",
       "    }\n",
       "\n",
       "    .dataframe tbody tr th {\n",
       "        vertical-align: top;\n",
       "    }\n",
       "\n",
       "    .dataframe thead th {\n",
       "        text-align: right;\n",
       "    }\n",
       "</style>\n",
       "<table border=\"1\" class=\"dataframe\">\n",
       "  <thead>\n",
       "    <tr style=\"text-align: right;\">\n",
       "      <th></th>\n",
       "      <th>Week30</th>\n",
       "      <th>Week31</th>\n",
       "      <th>Week32</th>\n",
       "      <th>Week33</th>\n",
       "      <th>Week34</th>\n",
       "    </tr>\n",
       "    <tr>\n",
       "      <th>Product_name</th>\n",
       "      <th></th>\n",
       "      <th></th>\n",
       "      <th></th>\n",
       "      <th></th>\n",
       "      <th></th>\n",
       "    </tr>\n",
       "  </thead>\n",
       "  <tbody>\n",
       "    <tr>\n",
       "      <th>A series</th>\n",
       "      <td>110.0</td>\n",
       "      <td>99.0</td>\n",
       "      <td>47.0</td>\n",
       "      <td>84.0</td>\n",
       "      <td>104.0</td>\n",
       "    </tr>\n",
       "    <tr>\n",
       "      <th>M series</th>\n",
       "      <td>4740.0</td>\n",
       "      <td>3337.0</td>\n",
       "      <td>1062.0</td>\n",
       "      <td>1412.0</td>\n",
       "      <td>7318.0</td>\n",
       "    </tr>\n",
       "  </tbody>\n",
       "</table>\n",
       "</div>"
      ],
      "text/plain": [
       "              Week30  Week31  Week32  Week33  Week34\n",
       "Product_name                                        \n",
       "A series       110.0    99.0    47.0    84.0   104.0\n",
       "M series      4740.0  3337.0  1062.0  1412.0  7318.0"
      ]
     },
     "execution_count": 16,
     "metadata": {},
     "output_type": "execute_result"
    }
   ],
   "source": [
    "# 칼럼명 변경\n",
    "a_samsung_ms2.columns = [\"Week30\", \"Week31\", \"Week32\", \"Week33\", \"Week34\"]\n",
    "a_samsung_ms2"
   ]
  },
  {
   "cell_type": "code",
   "execution_count": 17,
   "metadata": {},
   "outputs": [
    {
     "data": {
      "text/html": [
       "<div>\n",
       "<style scoped>\n",
       "    .dataframe tbody tr th:only-of-type {\n",
       "        vertical-align: middle;\n",
       "    }\n",
       "\n",
       "    .dataframe tbody tr th {\n",
       "        vertical-align: top;\n",
       "    }\n",
       "\n",
       "    .dataframe thead th {\n",
       "        text-align: right;\n",
       "    }\n",
       "</style>\n",
       "<table border=\"1\" class=\"dataframe\">\n",
       "  <thead>\n",
       "    <tr style=\"text-align: right;\">\n",
       "      <th></th>\n",
       "      <th>Week30</th>\n",
       "      <th>Week31</th>\n",
       "      <th>Week32</th>\n",
       "      <th>Week33</th>\n",
       "      <th>Week34</th>\n",
       "    </tr>\n",
       "    <tr>\n",
       "      <th>Product_name</th>\n",
       "      <th></th>\n",
       "      <th></th>\n",
       "      <th></th>\n",
       "      <th></th>\n",
       "      <th></th>\n",
       "    </tr>\n",
       "  </thead>\n",
       "  <tbody>\n",
       "    <tr>\n",
       "      <th>A series</th>\n",
       "      <td>82.5</td>\n",
       "      <td>79.2</td>\n",
       "      <td>39.95</td>\n",
       "      <td>75.6</td>\n",
       "      <td>98.8</td>\n",
       "    </tr>\n",
       "    <tr>\n",
       "      <th>M series</th>\n",
       "      <td>3555.0</td>\n",
       "      <td>2669.6</td>\n",
       "      <td>902.70</td>\n",
       "      <td>1270.8</td>\n",
       "      <td>6952.1</td>\n",
       "    </tr>\n",
       "  </tbody>\n",
       "</table>\n",
       "</div>"
      ],
      "text/plain": [
       "              Week30  Week31  Week32  Week33  Week34\n",
       "Product_name                                        \n",
       "A series        82.5    79.2   39.95    75.6    98.8\n",
       "M series      3555.0  2669.6  902.70  1270.8  6952.1"
      ]
     },
     "execution_count": 17,
     "metadata": {},
     "output_type": "execute_result"
    }
   ],
   "source": [
    "#가중치 더해서 weight_sum하기\n",
    "a_samsung_ms2[\"Week34\"] = a_samsung_ms2[\"Week34\"] * 0.95\n",
    "a_samsung_ms2[\"Week33\"] = a_samsung_ms2[\"Week33\"] * 0.90\n",
    "a_samsung_ms2[\"Week32\"] = a_samsung_ms2[\"Week32\"] * 0.85\n",
    "a_samsung_ms2[\"Week31\"] = a_samsung_ms2[\"Week31\"] * 0.80\n",
    "a_samsung_ms2[\"Week30\"] = a_samsung_ms2[\"Week30\"] * 0.75\n",
    "\n",
    "a_samsung_ms2"
   ]
  },
  {
   "cell_type": "code",
   "execution_count": 18,
   "metadata": {},
   "outputs": [
    {
     "data": {
      "text/html": [
       "<div>\n",
       "<style scoped>\n",
       "    .dataframe tbody tr th:only-of-type {\n",
       "        vertical-align: middle;\n",
       "    }\n",
       "\n",
       "    .dataframe tbody tr th {\n",
       "        vertical-align: top;\n",
       "    }\n",
       "\n",
       "    .dataframe thead th {\n",
       "        text-align: right;\n",
       "    }\n",
       "</style>\n",
       "<table border=\"1\" class=\"dataframe\">\n",
       "  <thead>\n",
       "    <tr style=\"text-align: right;\">\n",
       "      <th></th>\n",
       "      <th>Week30</th>\n",
       "      <th>Week31</th>\n",
       "      <th>Week32</th>\n",
       "      <th>Week33</th>\n",
       "      <th>Week34</th>\n",
       "    </tr>\n",
       "    <tr>\n",
       "      <th>Product_name</th>\n",
       "      <th></th>\n",
       "      <th></th>\n",
       "      <th></th>\n",
       "      <th></th>\n",
       "      <th></th>\n",
       "    </tr>\n",
       "  </thead>\n",
       "  <tbody>\n",
       "    <tr>\n",
       "      <th>A series</th>\n",
       "      <td>82.5</td>\n",
       "      <td>79.2</td>\n",
       "      <td>39.95</td>\n",
       "      <td>75.6</td>\n",
       "      <td>98.8</td>\n",
       "    </tr>\n",
       "    <tr>\n",
       "      <th>M series</th>\n",
       "      <td>3555.0</td>\n",
       "      <td>2669.6</td>\n",
       "      <td>902.70</td>\n",
       "      <td>1270.8</td>\n",
       "      <td>6952.1</td>\n",
       "    </tr>\n",
       "  </tbody>\n",
       "</table>\n",
       "</div>"
      ],
      "text/plain": [
       "              Week30  Week31  Week32  Week33  Week34\n",
       "Product_name                                        \n",
       "A series        82.5    79.2   39.95    75.6    98.8\n",
       "M series      3555.0  2669.6  902.70  1270.8  6952.1"
      ]
     },
     "execution_count": 18,
     "metadata": {},
     "output_type": "execute_result"
    }
   ],
   "source": [
    "#칼럼명으로 오름차순 정렬\n",
    "\n",
    "a_samsung_ms2 = a_samsung_ms2.sort_index(axis =1 , ascending = True)\n",
    "a_samsung_ms2"
   ]
  },
  {
   "cell_type": "code",
   "execution_count": 19,
   "metadata": {},
   "outputs": [
    {
     "data": {
      "text/html": [
       "<div>\n",
       "<style scoped>\n",
       "    .dataframe tbody tr th:only-of-type {\n",
       "        vertical-align: middle;\n",
       "    }\n",
       "\n",
       "    .dataframe tbody tr th {\n",
       "        vertical-align: top;\n",
       "    }\n",
       "\n",
       "    .dataframe thead th {\n",
       "        text-align: right;\n",
       "    }\n",
       "</style>\n",
       "<table border=\"1\" class=\"dataframe\">\n",
       "  <thead>\n",
       "    <tr style=\"text-align: right;\">\n",
       "      <th></th>\n",
       "      <th>Week30</th>\n",
       "      <th>Week31</th>\n",
       "      <th>Week32</th>\n",
       "      <th>Week33</th>\n",
       "      <th>Week34</th>\n",
       "      <th>Weight_sum</th>\n",
       "    </tr>\n",
       "    <tr>\n",
       "      <th>Product_name</th>\n",
       "      <th></th>\n",
       "      <th></th>\n",
       "      <th></th>\n",
       "      <th></th>\n",
       "      <th></th>\n",
       "      <th></th>\n",
       "    </tr>\n",
       "  </thead>\n",
       "  <tbody>\n",
       "    <tr>\n",
       "      <th>A series</th>\n",
       "      <td>82.5</td>\n",
       "      <td>79.2</td>\n",
       "      <td>39.95</td>\n",
       "      <td>75.6</td>\n",
       "      <td>98.8</td>\n",
       "      <td>376.05</td>\n",
       "    </tr>\n",
       "    <tr>\n",
       "      <th>M series</th>\n",
       "      <td>3555.0</td>\n",
       "      <td>2669.6</td>\n",
       "      <td>902.70</td>\n",
       "      <td>1270.8</td>\n",
       "      <td>6952.1</td>\n",
       "      <td>15350.20</td>\n",
       "    </tr>\n",
       "  </tbody>\n",
       "</table>\n",
       "</div>"
      ],
      "text/plain": [
       "              Week30  Week31  Week32  Week33  Week34  Weight_sum\n",
       "Product_name                                                    \n",
       "A series        82.5    79.2   39.95    75.6    98.8      376.05\n",
       "M series      3555.0  2669.6  902.70  1270.8  6952.1    15350.20"
      ]
     },
     "execution_count": 19,
     "metadata": {},
     "output_type": "execute_result"
    }
   ],
   "source": [
    "####################################################\n",
    "#####주차별 가중치합 (기존의 Weight_sum과 달리, 2~4주차치만 뽑은 데이터!)\n",
    "\n",
    "a_samsung_ms2['Weight_sum'] = a_samsung_ms2['Week34'] + a_samsung_ms2['Week33'] + a_samsung_ms2['Week32']+ a_samsung_ms2['Week31']+ a_samsung_ms2['Week30']\n",
    "a_samsung_ms2"
   ]
  },
  {
   "cell_type": "code",
   "execution_count": 20,
   "metadata": {
    "scrolled": true
   },
   "outputs": [
    {
     "data": {
      "text/html": [
       "<div>\n",
       "<style scoped>\n",
       "    .dataframe tbody tr th:only-of-type {\n",
       "        vertical-align: middle;\n",
       "    }\n",
       "\n",
       "    .dataframe tbody tr th {\n",
       "        vertical-align: top;\n",
       "    }\n",
       "\n",
       "    .dataframe thead th {\n",
       "        text-align: right;\n",
       "    }\n",
       "</style>\n",
       "<table border=\"1\" class=\"dataframe\">\n",
       "  <thead>\n",
       "    <tr style=\"text-align: right;\">\n",
       "      <th></th>\n",
       "      <th>Week30</th>\n",
       "      <th>Week31</th>\n",
       "      <th>Week32</th>\n",
       "      <th>Week33</th>\n",
       "      <th>Week34</th>\n",
       "      <th>Weight_sum</th>\n",
       "    </tr>\n",
       "    <tr>\n",
       "      <th>Product_name</th>\n",
       "      <th></th>\n",
       "      <th></th>\n",
       "      <th></th>\n",
       "      <th></th>\n",
       "      <th></th>\n",
       "      <th></th>\n",
       "    </tr>\n",
       "  </thead>\n",
       "  <tbody>\n",
       "    <tr>\n",
       "      <th>M series</th>\n",
       "      <td>3555.0</td>\n",
       "      <td>2669.6</td>\n",
       "      <td>902.70</td>\n",
       "      <td>1270.8</td>\n",
       "      <td>6952.1</td>\n",
       "      <td>15350.20</td>\n",
       "    </tr>\n",
       "    <tr>\n",
       "      <th>A series</th>\n",
       "      <td>82.5</td>\n",
       "      <td>79.2</td>\n",
       "      <td>39.95</td>\n",
       "      <td>75.6</td>\n",
       "      <td>98.8</td>\n",
       "      <td>376.05</td>\n",
       "    </tr>\n",
       "  </tbody>\n",
       "</table>\n",
       "</div>"
      ],
      "text/plain": [
       "              Week30  Week31  Week32  Week33  Week34  Weight_sum\n",
       "Product_name                                                    \n",
       "M series      3555.0  2669.6  902.70  1270.8  6952.1    15350.20\n",
       "A series        82.5    79.2   39.95    75.6    98.8      376.05"
      ]
     },
     "execution_count": 20,
     "metadata": {},
     "output_type": "execute_result"
    }
   ],
   "source": [
    "#내림차순으로 정렬\n",
    "a_samsung_ms2 = a_samsung_ms2.sort_values([\"Weight_sum\"], ascending=[False])\n",
    "a_samsung_ms2"
   ]
  },
  {
   "cell_type": "code",
   "execution_count": 21,
   "metadata": {},
   "outputs": [
    {
     "data": {
      "text/html": [
       "<div>\n",
       "<style scoped>\n",
       "    .dataframe tbody tr th:only-of-type {\n",
       "        vertical-align: middle;\n",
       "    }\n",
       "\n",
       "    .dataframe tbody tr th {\n",
       "        vertical-align: top;\n",
       "    }\n",
       "\n",
       "    .dataframe thead th {\n",
       "        text-align: right;\n",
       "    }\n",
       "</style>\n",
       "<table border=\"1\" class=\"dataframe\">\n",
       "  <thead>\n",
       "    <tr style=\"text-align: right;\">\n",
       "      <th></th>\n",
       "      <th>Week30</th>\n",
       "      <th>Week31</th>\n",
       "      <th>Week32</th>\n",
       "      <th>Week33</th>\n",
       "      <th>Week34</th>\n",
       "    </tr>\n",
       "    <tr>\n",
       "      <th>Product_name</th>\n",
       "      <th></th>\n",
       "      <th></th>\n",
       "      <th></th>\n",
       "      <th></th>\n",
       "      <th></th>\n",
       "    </tr>\n",
       "  </thead>\n",
       "  <tbody>\n",
       "    <tr>\n",
       "      <th>M series</th>\n",
       "      <td>3555.0</td>\n",
       "      <td>2669.6</td>\n",
       "      <td>902.70</td>\n",
       "      <td>1270.8</td>\n",
       "      <td>6952.1</td>\n",
       "    </tr>\n",
       "    <tr>\n",
       "      <th>A series</th>\n",
       "      <td>82.5</td>\n",
       "      <td>79.2</td>\n",
       "      <td>39.95</td>\n",
       "      <td>75.6</td>\n",
       "      <td>98.8</td>\n",
       "    </tr>\n",
       "  </tbody>\n",
       "</table>\n",
       "</div>"
      ],
      "text/plain": [
       "              Week30  Week31  Week32  Week33  Week34\n",
       "Product_name                                        \n",
       "M series      3555.0  2669.6  902.70  1270.8  6952.1\n",
       "A series        82.5    79.2   39.95    75.6    98.8"
      ]
     },
     "execution_count": 21,
     "metadata": {},
     "output_type": "execute_result"
    }
   ],
   "source": [
    "#Weight_sum탈락시키기\n",
    "a_samsung_ms2_review_count = a_samsung_ms2.drop(a_samsung_ms2.columns[-1:], axis='columns')\n",
    "a_samsung_ms2_review_count"
   ]
  },
  {
   "cell_type": "code",
   "execution_count": 22,
   "metadata": {},
   "outputs": [],
   "source": [
    "# csv파일로 저장하기\n",
    "data = pd.DataFrame(a_samsung_ms2)\n",
    "data.to_csv('Amazon_line_weight_sum.csv')"
   ]
  },
  {
   "cell_type": "code",
   "execution_count": 23,
   "metadata": {},
   "outputs": [],
   "source": [
    "#파이차트 라이브러리\n",
    "import matplotlib.pyplot as plt\n",
    "import seaborn as sns\n",
    "import numpy as np\n",
    "from matplotlib import rc\n",
    "\n",
    "%matplotlib inline"
   ]
  },
  {
   "cell_type": "code",
   "execution_count": 24,
   "metadata": {},
   "outputs": [
    {
     "data": {
      "text/html": [
       "<div>\n",
       "<style scoped>\n",
       "    .dataframe tbody tr th:only-of-type {\n",
       "        vertical-align: middle;\n",
       "    }\n",
       "\n",
       "    .dataframe tbody tr th {\n",
       "        vertical-align: top;\n",
       "    }\n",
       "\n",
       "    .dataframe thead th {\n",
       "        text-align: right;\n",
       "    }\n",
       "</style>\n",
       "<table border=\"1\" class=\"dataframe\">\n",
       "  <thead>\n",
       "    <tr style=\"text-align: right;\">\n",
       "      <th></th>\n",
       "      <th>Weight_sum</th>\n",
       "    </tr>\n",
       "    <tr>\n",
       "      <th>Product_name</th>\n",
       "      <th></th>\n",
       "    </tr>\n",
       "  </thead>\n",
       "  <tbody>\n",
       "    <tr>\n",
       "      <th>M series</th>\n",
       "      <td>15350.20</td>\n",
       "    </tr>\n",
       "    <tr>\n",
       "      <th>A series</th>\n",
       "      <td>376.05</td>\n",
       "    </tr>\n",
       "  </tbody>\n",
       "</table>\n",
       "</div>"
      ],
      "text/plain": [
       "              Weight_sum\n",
       "Product_name            \n",
       "M series        15350.20\n",
       "A series          376.05"
      ]
     },
     "execution_count": 24,
     "metadata": {},
     "output_type": "execute_result"
    }
   ],
   "source": [
    "#벤더 + weigh_sum만 불러오기\n",
    "A_vendor_weigh3 = a_samsung_ms2[['Weight_sum']]\n",
    "A_vendor_weigh3"
   ]
  },
  {
   "cell_type": "code",
   "execution_count": 25,
   "metadata": {},
   "outputs": [
    {
     "name": "stderr",
     "output_type": "stream",
     "text": [
      "C:\\Users\\LES\\Anaconda3\\lib\\site-packages\\ipykernel_launcher.py:7: MatplotlibDeprecationWarning: Non-1D inputs to pie() are currently squeeze()d, but this behavior is deprecated since 3.1 and will be removed in 3.3; pass a 1D array instead.\n",
      "  import sys\n"
     ]
    },
    {
     "data": {
      "image/png": "[encoded data removed]",
      "text/plain": [
       "<Figure size 432x288 with 1 Axes>"
      ]
     },
     "metadata": {},
     "output_type": "display_data"
    }
   ],
   "source": [
    "#파이차트 그리기\n",
    "plt.pie(A_vendor_weigh3,\n",
    "        explode = (0.05, 0),\n",
    "        labels = ['M series','A series'],\n",
    "        colors = ['green', 'dodgerblue'], \n",
    "        startangle = 180,\n",
    "        autopct = '%1.2f%%')\n",
    "\n",
    "plt.rcParams.update({'font.size': 25})\n",
    "plt.rcParams['figure.figsize'] = [20, 15]\n",
    "plt.axis('equal', fontsize=18)\n",
    "plt.title('Amazon Samsung Smartphone Review Share', fontsize = 40)       \n",
    "plt.legend(fontsize=22,  loc='upper left')\n",
    "\n",
    "\n",
    "plt.show()"
   ]
  },
  {
   "cell_type": "code",
   "execution_count": 26,
   "metadata": {},
   "outputs": [
    {
     "data": {
      "text/html": [
       "<div>\n",
       "<style scoped>\n",
       "    .dataframe tbody tr th:only-of-type {\n",
       "        vertical-align: middle;\n",
       "    }\n",
       "\n",
       "    .dataframe tbody tr th {\n",
       "        vertical-align: top;\n",
       "    }\n",
       "\n",
       "    .dataframe thead th {\n",
       "        text-align: right;\n",
       "    }\n",
       "</style>\n",
       "<table border=\"1\" class=\"dataframe\">\n",
       "  <thead>\n",
       "    <tr style=\"text-align: right;\">\n",
       "      <th></th>\n",
       "      <th>Week30</th>\n",
       "      <th>Week31</th>\n",
       "      <th>Week32</th>\n",
       "      <th>Week33</th>\n",
       "      <th>Week34</th>\n",
       "      <th>Weight_sum</th>\n",
       "    </tr>\n",
       "    <tr>\n",
       "      <th>Product_name</th>\n",
       "      <th></th>\n",
       "      <th></th>\n",
       "      <th></th>\n",
       "      <th></th>\n",
       "      <th></th>\n",
       "      <th></th>\n",
       "    </tr>\n",
       "  </thead>\n",
       "  <tbody>\n",
       "    <tr>\n",
       "      <th>M series</th>\n",
       "      <td>97.731959</td>\n",
       "      <td>97.118743</td>\n",
       "      <td>95.761948</td>\n",
       "      <td>94.385027</td>\n",
       "      <td>98.59876</td>\n",
       "      <td>97.608775</td>\n",
       "    </tr>\n",
       "    <tr>\n",
       "      <th>A series</th>\n",
       "      <td>2.268041</td>\n",
       "      <td>2.881257</td>\n",
       "      <td>4.238052</td>\n",
       "      <td>5.614973</td>\n",
       "      <td>1.40124</td>\n",
       "      <td>2.391225</td>\n",
       "    </tr>\n",
       "  </tbody>\n",
       "</table>\n",
       "</div>"
      ],
      "text/plain": [
       "                 Week30     Week31     Week32     Week33    Week34  Weight_sum\n",
       "Product_name                                                                  \n",
       "M series      97.731959  97.118743  95.761948  94.385027  98.59876   97.608775\n",
       "A series       2.268041   2.881257   4.238052   5.614973   1.40124    2.391225"
      ]
     },
     "execution_count": 26,
     "metadata": {},
     "output_type": "execute_result"
    }
   ],
   "source": [
    "#백분율 구하기 vendor_weigh_2\n",
    "a_samsung_ms2_per = (a_samsung_ms2[0:] / a_samsung_ms2[0:].sum()) * 100\n",
    "a_samsung_ms2_per"
   ]
  },
  {
   "cell_type": "code",
   "execution_count": 27,
   "metadata": {},
   "outputs": [],
   "source": [
    "# csv파일로 저장하기 (주별 리뷰 점유율 percentage)\n",
    "data1 = pd.DataFrame(a_samsung_ms2_per)\n",
    "data1.to_csv('Weekly_Amazon_line_weight_sum_per.csv')"
   ]
  },
  {
   "cell_type": "code",
   "execution_count": 28,
   "metadata": {},
   "outputs": [
    {
     "data": {
      "text/html": [
       "<div>\n",
       "<style scoped>\n",
       "    .dataframe tbody tr th:only-of-type {\n",
       "        vertical-align: middle;\n",
       "    }\n",
       "\n",
       "    .dataframe tbody tr th {\n",
       "        vertical-align: top;\n",
       "    }\n",
       "\n",
       "    .dataframe thead th {\n",
       "        text-align: right;\n",
       "    }\n",
       "</style>\n",
       "<table border=\"1\" class=\"dataframe\">\n",
       "  <thead>\n",
       "    <tr style=\"text-align: right;\">\n",
       "      <th>Product_name</th>\n",
       "      <th>M series</th>\n",
       "      <th>A series</th>\n",
       "    </tr>\n",
       "  </thead>\n",
       "  <tbody>\n",
       "    <tr>\n",
       "      <th>Week30</th>\n",
       "      <td>97.731959</td>\n",
       "      <td>2.268041</td>\n",
       "    </tr>\n",
       "    <tr>\n",
       "      <th>Week31</th>\n",
       "      <td>97.118743</td>\n",
       "      <td>2.881257</td>\n",
       "    </tr>\n",
       "    <tr>\n",
       "      <th>Week32</th>\n",
       "      <td>95.761948</td>\n",
       "      <td>4.238052</td>\n",
       "    </tr>\n",
       "    <tr>\n",
       "      <th>Week33</th>\n",
       "      <td>94.385027</td>\n",
       "      <td>5.614973</td>\n",
       "    </tr>\n",
       "    <tr>\n",
       "      <th>Week34</th>\n",
       "      <td>98.598760</td>\n",
       "      <td>1.401240</td>\n",
       "    </tr>\n",
       "  </tbody>\n",
       "</table>\n",
       "</div>"
      ],
      "text/plain": [
       "Product_name   M series  A series\n",
       "Week30        97.731959  2.268041\n",
       "Week31        97.118743  2.881257\n",
       "Week32        95.761948  4.238052\n",
       "Week33        94.385027  5.614973\n",
       "Week34        98.598760  1.401240"
      ]
     },
     "execution_count": 28,
     "metadata": {},
     "output_type": "execute_result"
    }
   ],
   "source": [
    "#행과 열을 바꾸기\n",
    "a_samsung_ms2_per = np.transpose(a_samsung_ms2_per)\n",
    "a_samsung_ms2_per.head()"
   ]
  },
  {
   "cell_type": "code",
   "execution_count": 29,
   "metadata": {},
   "outputs": [
    {
     "name": "stderr",
     "output_type": "stream",
     "text": [
      "C:\\Users\\LES\\AppData\\Roaming\\Python\\Python37\\site-packages\\pandas\\plotting\\_core.py:185: UserWarning: 'colors' is being deprecated. Please use 'color'instead of 'colors'\n",
      "  warnings.warn((\"'colors' is being deprecated. Please use 'color'\"\n"
     ]
    },
    {
     "data": {
      "image/png": "[encoded data removed]",
      "text/plain": [
       "<Figure size 1440x1080 with 1 Axes>"
      ]
     },
     "metadata": {
      "needs_background": "light"
     },
     "output_type": "display_data"
    }
   ],
   "source": [
    "# 누적막대그래프 만들기\n",
    "a_samsung_ms2_per.plot.bar(stacked=True, fontsize=25,\n",
    "                          colors = ['green', 'dodgerblue'], alpha=0.7)\n",
    "\n",
    "# Set the title and labels\n",
    "plt.rcParams['figure.figsize'] = [15,13]\n",
    "plt.legend(fontsize=23, loc = 'lower right')\n",
    "plt.xlabel('weeks', fontsize=23)\n",
    "plt.ylabel('Percentage', fontsize=23)\n",
    "plt.title('Amazon Weekly Samsung Smartphone Review Share ', fontsize=40)\n",
    "\n",
    "\n",
    "# show the plot\n",
    "plt.show()"
   ]
  },
  {
   "cell_type": "code",
   "execution_count": 31,
   "metadata": {},
   "outputs": [
    {
     "data": {
      "image/png": "[encoded data removed]",
      "text/plain": [
       "<Figure size 1080x936 with 1 Axes>"
      ]
     },
     "metadata": {
      "needs_background": "light"
     },
     "output_type": "display_data"
    }
   ],
   "source": [
    "x=a_samsung_ms2_review_count.columns[0:]\n",
    "y=a_samsung_ms2_review_count[0:]\n",
    "\n",
    "pal = ['green', 'dodgerblue']\n",
    "plt.stackplot(x,y, labels=['M series','A series'], \n",
    "              colors=pal, alpha=0.7 )\n",
    "\n",
    "plt.title(\"Amazon Weekly Samsung Smartphone Review Count\", fontsize=40, fontweight=0, color='black')\n",
    "plt.xlabel(\"Weeks\", fontsize = 24)\n",
    "plt.xticks(fontsize = 24)\n",
    "\n",
    "plt.ylabel(\"Review counts\", fontsize = 24)\n",
    "plt.yticks(fontsize = 24)\n",
    "\n",
    "plt.legend(loc='upper right', fontsize = 22)\n",
    "plt.show()\n",
    " "
   ]
  },
  {
   "cell_type": "code",
   "execution_count": null,
   "metadata": {},
   "outputs": [],
   "source": []
  },
  {
   "cell_type": "code",
   "execution_count": null,
   "metadata": {},
   "outputs": [],
   "source": []
  }
 ],
 "metadata": {
  "kernelspec": {
   "display_name": "Python 3",
   "language": "python",
   "name": "python3"
  },
  "language_info": {
   "codemirror_mode": {
    "name": "ipython",
    "version": 3
   },
   "file_extension": ".py",
   "mimetype": "text/x-python",
   "name": "python",
   "nbconvert_exporter": "python",
   "pygments_lexer": "ipython3",
   "version": "3.7.3"
  }
 },
 "nbformat": 4,
 "nbformat_minor": 2
}
